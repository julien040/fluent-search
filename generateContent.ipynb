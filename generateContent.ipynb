{
 "cells": [
  {
   "cell_type": "markdown",
   "metadata": {},
   "source": [
    "This notebook generates a JSON file that is later used by the front end.\n",
    "It fetches every emoji, create an entry for each one and then save it in a JSON file.\n"
   ]
  },
  {
   "cell_type": "markdown",
   "metadata": {},
   "source": [
    "# Initialisation"
   ]
  },
  {
   "cell_type": "code",
   "execution_count": 1,
   "metadata": {},
   "outputs": [
    {
     "name": "stdout",
     "output_type": "stream",
     "text": [
      "Cloning into 'repo'...\n",
      "remote: Enumerating objects: 27960, done.\u001b[K\n",
      "remote: Counting objects: 100% (367/367), done.\u001b[K\n",
      "remote: Compressing objects: 100% (273/273), done.\u001b[K\n",
      "remote: Total 27960 (delta 42), reused 352 (delta 33), pack-reused 27593\u001b[K\n",
      "Receiving objects: 100% (27960/27960), 125.19 MiB | 840.00 KiB/s, done.\n",
      "Resolving deltas: 100% (3291/3291), done.\n",
      "Updating files: 100% (12041/12041), done.\n"
     ]
    }
   ],
   "source": [
    "# Remove any existing content\n",
    "!rm -rf repo\n",
    "# We clone the repo in the repo folder\n",
    "!git clone https://github.com/microsoft/fluentui-emoji.git repo\n",
    "# Delete the .git folder because we don't need it\n",
    "!rm -rf repo/.git"
   ]
  },
  {
   "cell_type": "markdown",
   "metadata": {},
   "source": [
    "# Transform the repo into a dictionary"
   ]
  },
  {
   "cell_type": "code",
   "execution_count": 8,
   "metadata": {},
   "outputs": [
    {
     "name": "stdout",
     "output_type": "stream",
     "text": [
      "File written\n"
     ]
    }
   ],
   "source": [
    "\n",
    "import json\n",
    "import os\n",
    "\n",
    "\"\"\"This function will find all the emoji in a given folder\n",
    "\"\"\"\n",
    "def getAllImageOfFolder(path:str):\n",
    "    # Get the path without \"repo\"\n",
    "    pathForCDN = path[5:]+\"/\"\n",
    "\n",
    "    \n",
    "    result = {}\n",
    "    # Try to get the 3D icon\n",
    "    if os.path.exists(path+\"/3D\"):\n",
    "        result[\"3D\"] = pathForCDN+\"3D/\"+os.listdir(path+\"/3D\")[0] #os.listdir(path+\"/3D\")[0] get the first file in the folder\n",
    "    # Try to get the color icon\n",
    "    if os.path.exists(path+\"/Color\"):\n",
    "        result[\"Color\"] = pathForCDN+ \"Color/\"+os.listdir(path+\"/Color\")[0]\n",
    "\n",
    "    # Try to get the Flat icon\n",
    "    if os.path.exists(path+\"/Flat\"):\n",
    "        result[\"Flat\"] = pathForCDN+ \"Flat/\"+os.listdir(path+\"/Flat\")[0]\n",
    "    if os.path.exists(path+\"/High Contrast\"):\n",
    "        result[\"High Contrast\"] = pathForCDN+\"High Contrast/\"+os.listdir(path+\"/High Contrast\")[0]\n",
    "    return result\n",
    "\n",
    "result = {}\n",
    "\n",
    "        \n",
    "# Iterate over the folders in the repo\n",
    "for folder in os.listdir('repo/assets/'):\n",
    "    # On macos, we have a .DS_Store file\n",
    "    if folder != \".DS_Store\" and os.path.isdir(\"repo/assets/\"+folder):\n",
    "        data = {\n",
    "            \"name\":folder,\n",
    "            \"variant\":[],\n",
    "\n",
    "        }\n",
    "        # Read the metadata json file\n",
    "        with open('repo/assets/'+folder+'/metadata.json') as json_file:\n",
    "            metadata = json.load(json_file)\n",
    "            # Get the emoji in unicode : 🙂\n",
    "            data[\"glyph\"] = metadata[\"glyph\"]\n",
    "            # Get the keywords\n",
    "            data[\"keywords\"] = metadata[\"keywords\"]\n",
    "\n",
    "\n",
    "        # We check if the emoji has variants. If 3D is present, it means that the emoji has no variants\n",
    "        if os.path.isdir('repo/assets/' + folder+ \"/3D\"):\n",
    "            # Case where the emoji has no variants\n",
    "            data[\"variant\"].append(getAllImageOfFolder('repo/assets/' + folder))\n",
    "\n",
    "        else:\n",
    "            # Case where the emoji has variants\n",
    "            for variant in os.listdir('repo/assets/' + folder):\n",
    "                # We check if the variant is a folder and not a file\n",
    "                if os.path.isdir('repo/assets/' + folder+ \"/\"+variant):\n",
    "                    data[\"variant\"].append(getAllImageOfFolder('repo/assets/' + folder+\"/\"+variant))\n",
    "\n",
    "        result[folder] = data\n",
    "\n",
    "\n",
    "# Write the result in a json file\n",
    "with open('data.js', 'w') as outfile:\n",
    "    toWrite= \"/* eslint-disable import/no-anonymous-default-export */ \\n export default \"+ json.dumps(result, indent=4) \n",
    "    outfile.write(toWrite)\n",
    "    print (\"File written\")\n",
    "\n",
    "# Close the file\n",
    "outfile.close()\n"
   ]
  }
 ],
 "metadata": {
  "kernelspec": {
   "display_name": "Python 3.10.6 64-bit",
   "language": "python",
   "name": "python3"
  },
  "language_info": {
   "codemirror_mode": {
    "name": "ipython",
    "version": 3
   },
   "file_extension": ".py",
   "mimetype": "text/x-python",
   "name": "python",
   "nbconvert_exporter": "python",
   "pygments_lexer": "ipython3",
   "version": "3.10.6"
  },
  "orig_nbformat": 4,
  "vscode": {
   "interpreter": {
    "hash": "aee8b7b246df8f9039afb4144a1f6fd8d2ca17a180786b69acc140d282b71a49"
   }
  }
 },
 "nbformat": 4,
 "nbformat_minor": 2
}
